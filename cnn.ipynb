{
  "cells": [
    {
      "cell_type": "markdown",
      "metadata": {
        "id": "view-in-github",
        "colab_type": "text"
      },
      "source": [
        "<a href=\"https://colab.research.google.com/github/Vidusha620/Humming-Bird/blob/main/cnn.ipynb\" target=\"_parent\"><img src=\"https://colab.research.google.com/assets/colab-badge.svg\" alt=\"Open In Colab\"/></a>"
      ]
    },
    {
      "cell_type": "code",
      "execution_count": null,
      "metadata": {
        "id": "48SPM_23tq40",
        "colab": {
          "base_uri": "https://localhost:8080/"
        },
        "outputId": "db3bac4c-f023-4838-ecb5-407652cca9e4"
      },
      "outputs": [
        {
          "output_type": "stream",
          "name": "stdout",
          "text": [
            "Drive already mounted at /content/drive; to attempt to forcibly remount, call drive.mount(\"/content/drive\", force_remount=True).\n"
          ]
        }
      ],
      "source": [
        "import numpy as np\n",
        "import os\n",
        "import matplotlib.pyplot as plt\n",
        "import cv2\n",
        "from sklearn.model_selection import train_test_split\n",
        "from sklearn.metrics import confusion_matrix, accuracy_score, precision_score, recall_score, f1_score\n",
        "from tensorflow.keras.models import Sequential, load_model\n",
        "from tensorflow.keras.layers import Conv2D, MaxPooling2D, Flatten, Dense\n",
        "from tensorflow.keras.callbacks import TensorBoard, ModelCheckpoint\n",
        "from google.colab import drive\n",
        "drive.mount('/content/drive')"
      ]
    },
    {
      "cell_type": "code",
      "execution_count": null,
      "metadata": {
        "id": "0XfLCGbgtzww"
      },
      "outputs": [],
      "source": [
        "# Define variables\n",
        "dataset_folder = '/content/drive/MyDrive/New Data set/New Data set/Train Data Set'\n",
        "image_height = 480\n",
        "image_width  = 640\n",
        "log_dir = os.path.join('Logs')\n"
      ]
    },
    {
      "cell_type": "code",
      "execution_count": null,
      "metadata": {
        "id": "G4QAASWBt6dk"
      },
      "outputs": [],
      "source": [
        "# Load dataset\n",
        "def load_dataset(dataset_folder):\n",
        "    X = []\n",
        "    y = []\n",
        "    class_names = sorted(os.listdir(dataset_folder))\n",
        "    for class_name in class_names:\n",
        "        class_dir = os.path.join(dataset_folder, class_name)\n",
        "        for filename in os.listdir(class_dir):\n",
        "            img_path = os.path.join(class_dir, filename)\n",
        "            img = cv2.imread(img_path, cv2.IMREAD_GRAYSCALE)\n",
        "            img = cv2.resize(img, (image_height, image_width))\n",
        "            X.append(img)\n",
        "            y.append(class_names.index(class_name))\n",
        "\n",
        "    return np.array(X), np.array(y)"
      ]
    },
    {
      "cell_type": "code",
      "execution_count": null,
      "metadata": {
        "id": "4fdG1QEcuAil"
      },
      "outputs": [],
      "source": [
        "# Load images and labels\n",
        "X,y = load_dataset(dataset_folder)\n"
      ]
    },
    {
      "cell_type": "code",
      "execution_count": null,
      "metadata": {
        "id": "JQ9w0f3luFWl"
      },
      "outputs": [],
      "source": [
        "# Normalize images\n",
        "X = X / 255.0\n"
      ]
    },
    {
      "cell_type": "code",
      "execution_count": null,
      "metadata": {
        "id": "3heXL6DQuNW9"
      },
      "outputs": [],
      "source": [
        "# Perform train-test split\n",
        "X_train, X_test, y_train, y_test = train_test_split(X, y, test_size=0.25, random_state=42)\n"
      ]
    },
    {
      "cell_type": "code",
      "execution_count": null,
      "metadata": {
        "id": "vMIA8SYugAXG"
      },
      "outputs": [],
      "source": [
        "# Define the number of classes dynamically\n",
        "num_classes = len(os.listdir(dataset_folder))\n"
      ]
    },
    {
      "cell_type": "code",
      "execution_count": null,
      "metadata": {
        "id": "l-WB5LoruW9N"
      },
      "outputs": [],
      "source": [
        "\n",
        "# Build CNN model\n",
        "model = Sequential()\n",
        "model.add(Conv2D(32, (3, 3), activation='relu', input_shape=(image_height, image_width,1)))\n",
        "model.add(MaxPooling2D((2, 2)))\n",
        "model.add(Conv2D(64, (3, 3), activation='relu'))\n",
        "model.add(MaxPooling2D((2, 2)))\n",
        "model.add(Conv2D(64, (3, 3), activation='relu'))\n",
        "model.add(Flatten())\n",
        "model.add(Dense(64, activation='relu'))\n",
        "model.add(Dense(32, activation='relu'))\n",
        "model.add(Dense(num_classes, activation='softmax'))\n",
        "\n",
        "model.compile(optimizer='Adam', loss='sparse_categorical_crossentropy', metrics=['accuracy'])"
      ]
    },
    {
      "cell_type": "code",
      "execution_count": null,
      "metadata": {
        "colab": {
          "base_uri": "https://localhost:8080/",
          "height": 1000
        },
        "id": "WrK4TcA9ubql",
        "outputId": "674d1465-533b-4dae-e3db-29f84b4ae9ca"
      },
      "outputs": [
        {
          "output_type": "stream",
          "name": "stdout",
          "text": [
            "Epoch 1/200\n",
            "12/12 [==============================] - 148s 12s/step - loss: 0.0142 - accuracy: 0.9974 - val_loss: 0.1718 - val_accuracy: 0.9609\n",
            "Epoch 2/200\n",
            "12/12 [==============================] - 147s 12s/step - loss: 0.0216 - accuracy: 0.9921 - val_loss: 0.1912 - val_accuracy: 0.9531\n",
            "Epoch 3/200\n",
            "12/12 [==============================] - 148s 12s/step - loss: 0.0206 - accuracy: 0.9948 - val_loss: 0.2458 - val_accuracy: 0.9375\n",
            "Epoch 4/200\n",
            "12/12 [==============================] - 148s 12s/step - loss: 0.0572 - accuracy: 0.9791 - val_loss: 0.1923 - val_accuracy: 0.9453\n",
            "Epoch 5/200\n",
            "12/12 [==============================] - 148s 12s/step - loss: 0.0108 - accuracy: 1.0000 - val_loss: 0.0816 - val_accuracy: 0.9766\n",
            "Epoch 6/200\n",
            "12/12 [==============================] - 148s 12s/step - loss: 0.0026 - accuracy: 1.0000 - val_loss: 0.0787 - val_accuracy: 0.9844\n",
            "Epoch 7/200\n",
            "12/12 [==============================] - 147s 12s/step - loss: 6.0727e-04 - accuracy: 1.0000 - val_loss: 0.1005 - val_accuracy: 0.9844\n",
            "Epoch 8/200\n",
            "12/12 [==============================] - 147s 12s/step - loss: 4.3701e-04 - accuracy: 1.0000 - val_loss: 0.1014 - val_accuracy: 0.9766\n",
            "Epoch 9/200\n",
            "12/12 [==============================] - 147s 12s/step - loss: 2.5849e-04 - accuracy: 1.0000 - val_loss: 0.0903 - val_accuracy: 0.9766\n",
            "Epoch 10/200\n",
            "12/12 [==============================] - 148s 12s/step - loss: 2.0341e-04 - accuracy: 1.0000 - val_loss: 0.0880 - val_accuracy: 0.9844\n",
            "Epoch 11/200\n",
            "12/12 [==============================] - 139s 12s/step - loss: 1.7662e-04 - accuracy: 1.0000 - val_loss: 0.0934 - val_accuracy: 0.9766\n",
            "Epoch 12/200\n",
            "12/12 [==============================] - 148s 12s/step - loss: 1.5914e-04 - accuracy: 1.0000 - val_loss: 0.0957 - val_accuracy: 0.9766\n",
            "Epoch 13/200\n",
            "12/12 [==============================] - 148s 12s/step - loss: 1.4764e-04 - accuracy: 1.0000 - val_loss: 0.0986 - val_accuracy: 0.9766\n",
            "Epoch 14/200\n",
            "12/12 [==============================] - 140s 12s/step - loss: 1.3617e-04 - accuracy: 1.0000 - val_loss: 0.0984 - val_accuracy: 0.9766\n",
            "Epoch 15/200\n",
            "12/12 [==============================] - 150s 13s/step - loss: 1.2888e-04 - accuracy: 1.0000 - val_loss: 0.0987 - val_accuracy: 0.9766\n",
            "Epoch 16/200\n",
            "12/12 [==============================] - 149s 13s/step - loss: 1.2033e-04 - accuracy: 1.0000 - val_loss: 0.1000 - val_accuracy: 0.9766\n",
            "Epoch 17/200\n",
            "12/12 [==============================] - 148s 13s/step - loss: 1.1419e-04 - accuracy: 1.0000 - val_loss: 0.1008 - val_accuracy: 0.9766\n",
            "Epoch 18/200\n",
            "12/12 [==============================] - 149s 13s/step - loss: 1.1074e-04 - accuracy: 1.0000 - val_loss: 0.1041 - val_accuracy: 0.9766\n",
            "Epoch 19/200\n",
            "12/12 [==============================] - 149s 13s/step - loss: 1.0220e-04 - accuracy: 1.0000 - val_loss: 0.1012 - val_accuracy: 0.9766\n",
            "Epoch 20/200\n",
            "12/12 [==============================] - 148s 13s/step - loss: 9.9800e-05 - accuracy: 1.0000 - val_loss: 0.1033 - val_accuracy: 0.9766\n",
            "Epoch 21/200\n",
            "12/12 [==============================] - 148s 12s/step - loss: 9.4388e-05 - accuracy: 1.0000 - val_loss: 0.1020 - val_accuracy: 0.9766\n",
            "Epoch 22/200\n",
            "12/12 [==============================] - 149s 13s/step - loss: 8.8896e-05 - accuracy: 1.0000 - val_loss: 0.1035 - val_accuracy: 0.9766\n",
            "Epoch 23/200\n",
            "12/12 [==============================] - 149s 13s/step - loss: 8.4743e-05 - accuracy: 1.0000 - val_loss: 0.1045 - val_accuracy: 0.9766\n",
            "Epoch 24/200\n",
            "12/12 [==============================] - 148s 12s/step - loss: 8.1291e-05 - accuracy: 1.0000 - val_loss: 0.1057 - val_accuracy: 0.9766\n",
            "Epoch 25/200\n",
            "12/12 [==============================] - 140s 12s/step - loss: 7.7927e-05 - accuracy: 1.0000 - val_loss: 0.1072 - val_accuracy: 0.9766\n",
            "Epoch 26/200\n",
            "12/12 [==============================] - 149s 13s/step - loss: 7.4589e-05 - accuracy: 1.0000 - val_loss: 0.1061 - val_accuracy: 0.9766\n",
            "Epoch 27/200\n",
            "12/12 [==============================] - 148s 13s/step - loss: 7.1669e-05 - accuracy: 1.0000 - val_loss: 0.1066 - val_accuracy: 0.9766\n",
            "Epoch 28/200\n",
            "12/12 [==============================] - 148s 12s/step - loss: 6.9013e-05 - accuracy: 1.0000 - val_loss: 0.1066 - val_accuracy: 0.9766\n",
            "Epoch 29/200\n",
            "12/12 [==============================] - 148s 13s/step - loss: 6.5975e-05 - accuracy: 1.0000 - val_loss: 0.1077 - val_accuracy: 0.9766\n",
            "Epoch 30/200\n",
            "12/12 [==============================] - 150s 13s/step - loss: 6.3575e-05 - accuracy: 1.0000 - val_loss: 0.1091 - val_accuracy: 0.9766\n",
            "Epoch 31/200\n",
            "12/12 [==============================] - 153s 13s/step - loss: 6.1425e-05 - accuracy: 1.0000 - val_loss: 0.1088 - val_accuracy: 0.9766\n",
            "Epoch 32/200\n",
            "12/12 [==============================] - 153s 13s/step - loss: 5.9097e-05 - accuracy: 1.0000 - val_loss: 0.1090 - val_accuracy: 0.9766\n",
            "Epoch 33/200\n",
            "12/12 [==============================] - 153s 13s/step - loss: 5.7359e-05 - accuracy: 1.0000 - val_loss: 0.1102 - val_accuracy: 0.9766\n",
            "Epoch 34/200\n",
            "12/12 [==============================] - 152s 13s/step - loss: 5.5381e-05 - accuracy: 1.0000 - val_loss: 0.1094 - val_accuracy: 0.9766\n",
            "Epoch 35/200\n",
            "12/12 [==============================] - 147s 12s/step - loss: 5.3171e-05 - accuracy: 1.0000 - val_loss: 0.1103 - val_accuracy: 0.9766\n",
            "Epoch 36/200\n",
            "12/12 [==============================] - 147s 12s/step - loss: 5.1462e-05 - accuracy: 1.0000 - val_loss: 0.1114 - val_accuracy: 0.9766\n",
            "Epoch 37/200\n",
            "12/12 [==============================] - 148s 12s/step - loss: 4.9849e-05 - accuracy: 1.0000 - val_loss: 0.1110 - val_accuracy: 0.9766\n",
            "Epoch 38/200\n",
            "12/12 [==============================] - 141s 12s/step - loss: 4.7995e-05 - accuracy: 1.0000 - val_loss: 0.1111 - val_accuracy: 0.9766\n",
            "Epoch 39/200\n",
            "12/12 [==============================] - 146s 12s/step - loss: 4.6599e-05 - accuracy: 1.0000 - val_loss: 0.1107 - val_accuracy: 0.9766\n",
            "Epoch 40/200\n",
            "12/12 [==============================] - 146s 12s/step - loss: 4.4563e-05 - accuracy: 1.0000 - val_loss: 0.1113 - val_accuracy: 0.9766\n",
            "Epoch 41/200\n",
            "12/12 [==============================] - 147s 12s/step - loss: 4.3292e-05 - accuracy: 1.0000 - val_loss: 0.1133 - val_accuracy: 0.9766\n",
            "Epoch 42/200\n",
            "12/12 [==============================] - 146s 12s/step - loss: 4.1915e-05 - accuracy: 1.0000 - val_loss: 0.1121 - val_accuracy: 0.9766\n",
            "Epoch 43/200\n",
            "12/12 [==============================] - 146s 12s/step - loss: 4.0284e-05 - accuracy: 1.0000 - val_loss: 0.1127 - val_accuracy: 0.9766\n",
            "Epoch 44/200\n",
            "12/12 [==============================] - 146s 12s/step - loss: 3.9244e-05 - accuracy: 1.0000 - val_loss: 0.1123 - val_accuracy: 0.9766\n",
            "Epoch 45/200\n",
            "12/12 [==============================] - 146s 12s/step - loss: 3.7977e-05 - accuracy: 1.0000 - val_loss: 0.1123 - val_accuracy: 0.9766\n",
            "Epoch 46/200\n",
            "12/12 [==============================] - 147s 12s/step - loss: 3.6865e-05 - accuracy: 1.0000 - val_loss: 0.1122 - val_accuracy: 0.9766\n",
            "Epoch 47/200\n",
            "12/12 [==============================] - 146s 12s/step - loss: 3.5871e-05 - accuracy: 1.0000 - val_loss: 0.1127 - val_accuracy: 0.9766\n",
            "Epoch 48/200\n",
            "12/12 [==============================] - 147s 12s/step - loss: 3.4991e-05 - accuracy: 1.0000 - val_loss: 0.1142 - val_accuracy: 0.9766\n",
            "Epoch 49/200\n",
            "12/12 [==============================] - 147s 12s/step - loss: 3.3982e-05 - accuracy: 1.0000 - val_loss: 0.1132 - val_accuracy: 0.9766\n",
            "Epoch 50/200\n",
            "12/12 [==============================] - 146s 12s/step - loss: 3.3088e-05 - accuracy: 1.0000 - val_loss: 0.1125 - val_accuracy: 0.9766\n",
            "Epoch 51/200\n",
            "12/12 [==============================] - 146s 12s/step - loss: 3.2300e-05 - accuracy: 1.0000 - val_loss: 0.1144 - val_accuracy: 0.9766\n",
            "Epoch 52/200\n",
            "12/12 [==============================] - 147s 12s/step - loss: 3.1312e-05 - accuracy: 1.0000 - val_loss: 0.1143 - val_accuracy: 0.9766\n",
            "Epoch 53/200\n",
            "12/12 [==============================] - 146s 12s/step - loss: 3.0546e-05 - accuracy: 1.0000 - val_loss: 0.1139 - val_accuracy: 0.9766\n",
            "Epoch 54/200\n",
            "12/12 [==============================] - 147s 12s/step - loss: 2.9883e-05 - accuracy: 1.0000 - val_loss: 0.1132 - val_accuracy: 0.9766\n",
            "Epoch 55/200\n",
            "12/12 [==============================] - 146s 12s/step - loss: 2.8969e-05 - accuracy: 1.0000 - val_loss: 0.1139 - val_accuracy: 0.9766\n",
            "Epoch 56/200\n",
            "12/12 [==============================] - 146s 12s/step - loss: 2.8488e-05 - accuracy: 1.0000 - val_loss: 0.1124 - val_accuracy: 0.9766\n",
            "Epoch 57/200\n",
            "12/12 [==============================] - 145s 12s/step - loss: 2.8662e-05 - accuracy: 1.0000 - val_loss: 0.1164 - val_accuracy: 0.9766\n",
            "Epoch 58/200\n",
            "12/12 [==============================] - 146s 12s/step - loss: 2.6784e-05 - accuracy: 1.0000 - val_loss: 0.1143 - val_accuracy: 0.9766\n",
            "Epoch 59/200\n",
            "12/12 [==============================] - 147s 12s/step - loss: 2.6364e-05 - accuracy: 1.0000 - val_loss: 0.1128 - val_accuracy: 0.9766\n",
            "Epoch 60/200\n",
            "12/12 [==============================] - 146s 12s/step - loss: 2.5689e-05 - accuracy: 1.0000 - val_loss: 0.1139 - val_accuracy: 0.9766\n",
            "Epoch 61/200\n",
            "12/12 [==============================] - 145s 12s/step - loss: 2.5089e-05 - accuracy: 1.0000 - val_loss: 0.1139 - val_accuracy: 0.9766\n",
            "Epoch 62/200\n",
            "12/12 [==============================] - 146s 12s/step - loss: 2.4491e-05 - accuracy: 1.0000 - val_loss: 0.1147 - val_accuracy: 0.9766\n",
            "Epoch 63/200\n",
            "12/12 [==============================] - 146s 12s/step - loss: 2.4055e-05 - accuracy: 1.0000 - val_loss: 0.1147 - val_accuracy: 0.9766\n",
            "Epoch 64/200\n",
            "12/12 [==============================] - 147s 12s/step - loss: 2.3535e-05 - accuracy: 1.0000 - val_loss: 0.1160 - val_accuracy: 0.9766\n",
            "Epoch 65/200\n",
            "12/12 [==============================] - 146s 12s/step - loss: 2.3129e-05 - accuracy: 1.0000 - val_loss: 0.1161 - val_accuracy: 0.9766\n",
            "Epoch 66/200\n",
            "12/12 [==============================] - 146s 12s/step - loss: 2.2401e-05 - accuracy: 1.0000 - val_loss: 0.1148 - val_accuracy: 0.9766\n",
            "Epoch 67/200\n",
            "12/12 [==============================] - 147s 12s/step - loss: 2.2040e-05 - accuracy: 1.0000 - val_loss: 0.1157 - val_accuracy: 0.9766\n",
            "Epoch 68/200\n",
            "12/12 [==============================] - 146s 12s/step - loss: 2.1710e-05 - accuracy: 1.0000 - val_loss: 0.1143 - val_accuracy: 0.9766\n",
            "Epoch 69/200\n",
            "12/12 [==============================] - 146s 12s/step - loss: 2.0888e-05 - accuracy: 1.0000 - val_loss: 0.1148 - val_accuracy: 0.9766\n",
            "Epoch 70/200\n",
            "12/12 [==============================] - 138s 12s/step - loss: 2.0396e-05 - accuracy: 1.0000 - val_loss: 0.1153 - val_accuracy: 0.9766\n",
            "Epoch 71/200\n",
            "12/12 [==============================] - 146s 12s/step - loss: 1.9996e-05 - accuracy: 1.0000 - val_loss: 0.1152 - val_accuracy: 0.9766\n",
            "Epoch 72/200\n",
            "12/12 [==============================] - 146s 12s/step - loss: 1.9534e-05 - accuracy: 1.0000 - val_loss: 0.1154 - val_accuracy: 0.9766\n",
            "Epoch 73/200\n",
            "12/12 [==============================] - 146s 12s/step - loss: 1.9077e-05 - accuracy: 1.0000 - val_loss: 0.1153 - val_accuracy: 0.9766\n",
            "Epoch 74/200\n",
            "12/12 [==============================] - 147s 12s/step - loss: 1.8654e-05 - accuracy: 1.0000 - val_loss: 0.1166 - val_accuracy: 0.9766\n",
            "Epoch 75/200\n",
            "12/12 [==============================] - 137s 12s/step - loss: 1.8305e-05 - accuracy: 1.0000 - val_loss: 0.1157 - val_accuracy: 0.9766\n",
            "Epoch 76/200\n",
            "12/12 [==============================] - 146s 12s/step - loss: 1.7754e-05 - accuracy: 1.0000 - val_loss: 0.1163 - val_accuracy: 0.9766\n",
            "Epoch 77/200\n",
            "12/12 [==============================] - 147s 12s/step - loss: 1.7427e-05 - accuracy: 1.0000 - val_loss: 0.1160 - val_accuracy: 0.9766\n",
            "Epoch 78/200\n",
            "12/12 [==============================] - 146s 12s/step - loss: 1.7008e-05 - accuracy: 1.0000 - val_loss: 0.1164 - val_accuracy: 0.9766\n",
            "Epoch 79/200\n",
            "12/12 [==============================] - 146s 12s/step - loss: 1.6664e-05 - accuracy: 1.0000 - val_loss: 0.1171 - val_accuracy: 0.9766\n",
            "Epoch 80/200\n",
            "12/12 [==============================] - 146s 12s/step - loss: 1.6301e-05 - accuracy: 1.0000 - val_loss: 0.1170 - val_accuracy: 0.9766\n",
            "Epoch 81/200\n",
            "12/12 [==============================] - 146s 12s/step - loss: 1.5915e-05 - accuracy: 1.0000 - val_loss: 0.1172 - val_accuracy: 0.9766\n",
            "Epoch 82/200\n",
            "12/12 [==============================] - 147s 12s/step - loss: 1.5659e-05 - accuracy: 1.0000 - val_loss: 0.1177 - val_accuracy: 0.9766\n",
            "Epoch 83/200\n",
            "12/12 [==============================] - 147s 12s/step - loss: 1.5447e-05 - accuracy: 1.0000 - val_loss: 0.1163 - val_accuracy: 0.9766\n",
            "Epoch 84/200\n",
            "12/12 [==============================] - 147s 12s/step - loss: 1.5033e-05 - accuracy: 1.0000 - val_loss: 0.1167 - val_accuracy: 0.9766\n",
            "Epoch 85/200\n",
            "12/12 [==============================] - 146s 12s/step - loss: 1.4693e-05 - accuracy: 1.0000 - val_loss: 0.1178 - val_accuracy: 0.9766\n",
            "Epoch 86/200\n",
            "12/12 [==============================] - 147s 12s/step - loss: 1.4375e-05 - accuracy: 1.0000 - val_loss: 0.1186 - val_accuracy: 0.9766\n",
            "Epoch 87/200\n",
            "12/12 [==============================] - 147s 12s/step - loss: 1.4297e-05 - accuracy: 1.0000 - val_loss: 0.1173 - val_accuracy: 0.9766\n",
            "Epoch 88/200\n",
            "12/12 [==============================] - 146s 12s/step - loss: 1.3872e-05 - accuracy: 1.0000 - val_loss: 0.1196 - val_accuracy: 0.9766\n",
            "Epoch 89/200\n",
            "12/12 [==============================] - 146s 12s/step - loss: 1.3473e-05 - accuracy: 1.0000 - val_loss: 0.1185 - val_accuracy: 0.9766\n",
            "Epoch 90/200\n",
            "12/12 [==============================] - 146s 12s/step - loss: 1.3230e-05 - accuracy: 1.0000 - val_loss: 0.1180 - val_accuracy: 0.9766\n",
            "Epoch 91/200\n",
            "12/12 [==============================] - 146s 12s/step - loss: 1.2958e-05 - accuracy: 1.0000 - val_loss: 0.1192 - val_accuracy: 0.9766\n",
            "Epoch 92/200\n",
            "12/12 [==============================] - 146s 12s/step - loss: 1.2768e-05 - accuracy: 1.0000 - val_loss: 0.1183 - val_accuracy: 0.9766\n",
            "Epoch 93/200\n",
            "12/12 [==============================] - 147s 12s/step - loss: 1.2355e-05 - accuracy: 1.0000 - val_loss: 0.1192 - val_accuracy: 0.9766\n",
            "Epoch 94/200\n",
            "12/12 [==============================] - 147s 12s/step - loss: 1.2117e-05 - accuracy: 1.0000 - val_loss: 0.1190 - val_accuracy: 0.9766\n",
            "Epoch 95/200\n",
            "12/12 [==============================] - 146s 12s/step - loss: 1.1845e-05 - accuracy: 1.0000 - val_loss: 0.1203 - val_accuracy: 0.9766\n",
            "Epoch 96/200\n",
            "12/12 [==============================] - 146s 12s/step - loss: 1.1683e-05 - accuracy: 1.0000 - val_loss: 0.1213 - val_accuracy: 0.9766\n",
            "Epoch 97/200\n",
            "12/12 [==============================] - 147s 12s/step - loss: 1.1576e-05 - accuracy: 1.0000 - val_loss: 0.1192 - val_accuracy: 0.9766\n",
            "Epoch 98/200\n",
            "12/12 [==============================] - 147s 12s/step - loss: 1.1201e-05 - accuracy: 1.0000 - val_loss: 0.1208 - val_accuracy: 0.9766\n",
            "Epoch 99/200\n",
            "12/12 [==============================] - 146s 12s/step - loss: 1.0917e-05 - accuracy: 1.0000 - val_loss: 0.1207 - val_accuracy: 0.9766\n",
            "Epoch 100/200\n",
            " 2/12 [====>.........................] - ETA: 1:46 - loss: 1.4779e-05 - accuracy: 1.0000"
          ]
        },
        {
          "output_type": "error",
          "ename": "KeyboardInterrupt",
          "evalue": "",
          "traceback": [
            "\u001b[0;31m---------------------------------------------------------------------------\u001b[0m",
            "\u001b[0;31mKeyboardInterrupt\u001b[0m                         Traceback (most recent call last)",
            "\u001b[0;32m<ipython-input-15-01e619f05dd0>\u001b[0m in \u001b[0;36m<cell line: 2>\u001b[0;34m()\u001b[0m\n\u001b[1;32m      1\u001b[0m \u001b[0;31m# Train the model\u001b[0m\u001b[0;34m\u001b[0m\u001b[0;34m\u001b[0m\u001b[0m\n\u001b[0;32m----> 2\u001b[0;31m \u001b[0mmodel\u001b[0m\u001b[0;34m.\u001b[0m\u001b[0mfit\u001b[0m\u001b[0;34m(\u001b[0m\u001b[0mX_train\u001b[0m\u001b[0;34m.\u001b[0m\u001b[0mreshape\u001b[0m\u001b[0;34m(\u001b[0m\u001b[0;34m-\u001b[0m\u001b[0;36m1\u001b[0m\u001b[0;34m,\u001b[0m \u001b[0mimage_height\u001b[0m\u001b[0;34m,\u001b[0m \u001b[0mimage_width\u001b[0m\u001b[0;34m,\u001b[0m \u001b[0;36m1\u001b[0m\u001b[0;34m)\u001b[0m\u001b[0;34m,\u001b[0m \u001b[0my_train\u001b[0m\u001b[0;34m,\u001b[0m \u001b[0mepochs\u001b[0m\u001b[0;34m=\u001b[0m\u001b[0;36m200\u001b[0m\u001b[0;34m,\u001b[0m \u001b[0mvalidation_data\u001b[0m\u001b[0;34m=\u001b[0m\u001b[0;34m(\u001b[0m\u001b[0mX_test\u001b[0m\u001b[0;34m.\u001b[0m\u001b[0mreshape\u001b[0m\u001b[0;34m(\u001b[0m\u001b[0;34m-\u001b[0m\u001b[0;36m1\u001b[0m\u001b[0;34m,\u001b[0m \u001b[0mimage_height\u001b[0m\u001b[0;34m,\u001b[0m \u001b[0mimage_width\u001b[0m\u001b[0;34m,\u001b[0m \u001b[0;36m1\u001b[0m\u001b[0;34m)\u001b[0m\u001b[0;34m,\u001b[0m \u001b[0my_test\u001b[0m\u001b[0;34m)\u001b[0m\u001b[0;34m,\u001b[0m \u001b[0mcallbacks\u001b[0m\u001b[0;34m=\u001b[0m\u001b[0;34m[\u001b[0m\u001b[0mTensorBoard\u001b[0m\u001b[0;34m(\u001b[0m\u001b[0mlog_dir\u001b[0m\u001b[0;34m=\u001b[0m\u001b[0mlog_dir\u001b[0m\u001b[0;34m)\u001b[0m\u001b[0;34m]\u001b[0m\u001b[0;34m)\u001b[0m\u001b[0;34m\u001b[0m\u001b[0;34m\u001b[0m\u001b[0m\n\u001b[0m",
            "\u001b[0;32m/usr/local/lib/python3.10/dist-packages/keras/src/utils/traceback_utils.py\u001b[0m in \u001b[0;36merror_handler\u001b[0;34m(*args, **kwargs)\u001b[0m\n\u001b[1;32m     63\u001b[0m         \u001b[0mfiltered_tb\u001b[0m \u001b[0;34m=\u001b[0m \u001b[0;32mNone\u001b[0m\u001b[0;34m\u001b[0m\u001b[0;34m\u001b[0m\u001b[0m\n\u001b[1;32m     64\u001b[0m         \u001b[0;32mtry\u001b[0m\u001b[0;34m:\u001b[0m\u001b[0;34m\u001b[0m\u001b[0;34m\u001b[0m\u001b[0m\n\u001b[0;32m---> 65\u001b[0;31m             \u001b[0;32mreturn\u001b[0m \u001b[0mfn\u001b[0m\u001b[0;34m(\u001b[0m\u001b[0;34m*\u001b[0m\u001b[0margs\u001b[0m\u001b[0;34m,\u001b[0m \u001b[0;34m**\u001b[0m\u001b[0mkwargs\u001b[0m\u001b[0;34m)\u001b[0m\u001b[0;34m\u001b[0m\u001b[0;34m\u001b[0m\u001b[0m\n\u001b[0m\u001b[1;32m     66\u001b[0m         \u001b[0;32mexcept\u001b[0m \u001b[0mException\u001b[0m \u001b[0;32mas\u001b[0m \u001b[0me\u001b[0m\u001b[0;34m:\u001b[0m\u001b[0;34m\u001b[0m\u001b[0;34m\u001b[0m\u001b[0m\n\u001b[1;32m     67\u001b[0m             \u001b[0mfiltered_tb\u001b[0m \u001b[0;34m=\u001b[0m \u001b[0m_process_traceback_frames\u001b[0m\u001b[0;34m(\u001b[0m\u001b[0me\u001b[0m\u001b[0;34m.\u001b[0m\u001b[0m__traceback__\u001b[0m\u001b[0;34m)\u001b[0m\u001b[0;34m\u001b[0m\u001b[0;34m\u001b[0m\u001b[0m\n",
            "\u001b[0;32m/usr/local/lib/python3.10/dist-packages/keras/src/engine/training.py\u001b[0m in \u001b[0;36mfit\u001b[0;34m(self, x, y, batch_size, epochs, verbose, callbacks, validation_split, validation_data, shuffle, class_weight, sample_weight, initial_epoch, steps_per_epoch, validation_steps, validation_batch_size, validation_freq, max_queue_size, workers, use_multiprocessing)\u001b[0m\n\u001b[1;32m   1805\u001b[0m                         ):\n\u001b[1;32m   1806\u001b[0m                             \u001b[0mcallbacks\u001b[0m\u001b[0;34m.\u001b[0m\u001b[0mon_train_batch_begin\u001b[0m\u001b[0;34m(\u001b[0m\u001b[0mstep\u001b[0m\u001b[0;34m)\u001b[0m\u001b[0;34m\u001b[0m\u001b[0;34m\u001b[0m\u001b[0m\n\u001b[0;32m-> 1807\u001b[0;31m                             \u001b[0mtmp_logs\u001b[0m \u001b[0;34m=\u001b[0m \u001b[0mself\u001b[0m\u001b[0;34m.\u001b[0m\u001b[0mtrain_function\u001b[0m\u001b[0;34m(\u001b[0m\u001b[0miterator\u001b[0m\u001b[0;34m)\u001b[0m\u001b[0;34m\u001b[0m\u001b[0;34m\u001b[0m\u001b[0m\n\u001b[0m\u001b[1;32m   1808\u001b[0m                             \u001b[0;32mif\u001b[0m \u001b[0mdata_handler\u001b[0m\u001b[0;34m.\u001b[0m\u001b[0mshould_sync\u001b[0m\u001b[0;34m:\u001b[0m\u001b[0;34m\u001b[0m\u001b[0;34m\u001b[0m\u001b[0m\n\u001b[1;32m   1809\u001b[0m                                 \u001b[0mcontext\u001b[0m\u001b[0;34m.\u001b[0m\u001b[0masync_wait\u001b[0m\u001b[0;34m(\u001b[0m\u001b[0;34m)\u001b[0m\u001b[0;34m\u001b[0m\u001b[0;34m\u001b[0m\u001b[0m\n",
            "\u001b[0;32m/usr/local/lib/python3.10/dist-packages/tensorflow/python/util/traceback_utils.py\u001b[0m in \u001b[0;36merror_handler\u001b[0;34m(*args, **kwargs)\u001b[0m\n\u001b[1;32m    148\u001b[0m     \u001b[0mfiltered_tb\u001b[0m \u001b[0;34m=\u001b[0m \u001b[0;32mNone\u001b[0m\u001b[0;34m\u001b[0m\u001b[0;34m\u001b[0m\u001b[0m\n\u001b[1;32m    149\u001b[0m     \u001b[0;32mtry\u001b[0m\u001b[0;34m:\u001b[0m\u001b[0;34m\u001b[0m\u001b[0;34m\u001b[0m\u001b[0m\n\u001b[0;32m--> 150\u001b[0;31m       \u001b[0;32mreturn\u001b[0m \u001b[0mfn\u001b[0m\u001b[0;34m(\u001b[0m\u001b[0;34m*\u001b[0m\u001b[0margs\u001b[0m\u001b[0;34m,\u001b[0m \u001b[0;34m**\u001b[0m\u001b[0mkwargs\u001b[0m\u001b[0;34m)\u001b[0m\u001b[0;34m\u001b[0m\u001b[0;34m\u001b[0m\u001b[0m\n\u001b[0m\u001b[1;32m    151\u001b[0m     \u001b[0;32mexcept\u001b[0m \u001b[0mException\u001b[0m \u001b[0;32mas\u001b[0m \u001b[0me\u001b[0m\u001b[0;34m:\u001b[0m\u001b[0;34m\u001b[0m\u001b[0;34m\u001b[0m\u001b[0m\n\u001b[1;32m    152\u001b[0m       \u001b[0mfiltered_tb\u001b[0m \u001b[0;34m=\u001b[0m \u001b[0m_process_traceback_frames\u001b[0m\u001b[0;34m(\u001b[0m\u001b[0me\u001b[0m\u001b[0;34m.\u001b[0m\u001b[0m__traceback__\u001b[0m\u001b[0;34m)\u001b[0m\u001b[0;34m\u001b[0m\u001b[0;34m\u001b[0m\u001b[0m\n",
            "\u001b[0;32m/usr/local/lib/python3.10/dist-packages/tensorflow/python/eager/polymorphic_function/polymorphic_function.py\u001b[0m in \u001b[0;36m__call__\u001b[0;34m(self, *args, **kwds)\u001b[0m\n\u001b[1;32m    830\u001b[0m \u001b[0;34m\u001b[0m\u001b[0m\n\u001b[1;32m    831\u001b[0m       \u001b[0;32mwith\u001b[0m \u001b[0mOptionalXlaContext\u001b[0m\u001b[0;34m(\u001b[0m\u001b[0mself\u001b[0m\u001b[0;34m.\u001b[0m\u001b[0m_jit_compile\u001b[0m\u001b[0;34m)\u001b[0m\u001b[0;34m:\u001b[0m\u001b[0;34m\u001b[0m\u001b[0;34m\u001b[0m\u001b[0m\n\u001b[0;32m--> 832\u001b[0;31m         \u001b[0mresult\u001b[0m \u001b[0;34m=\u001b[0m \u001b[0mself\u001b[0m\u001b[0;34m.\u001b[0m\u001b[0m_call\u001b[0m\u001b[0;34m(\u001b[0m\u001b[0;34m*\u001b[0m\u001b[0margs\u001b[0m\u001b[0;34m,\u001b[0m \u001b[0;34m**\u001b[0m\u001b[0mkwds\u001b[0m\u001b[0;34m)\u001b[0m\u001b[0;34m\u001b[0m\u001b[0;34m\u001b[0m\u001b[0m\n\u001b[0m\u001b[1;32m    833\u001b[0m \u001b[0;34m\u001b[0m\u001b[0m\n\u001b[1;32m    834\u001b[0m       \u001b[0mnew_tracing_count\u001b[0m \u001b[0;34m=\u001b[0m \u001b[0mself\u001b[0m\u001b[0;34m.\u001b[0m\u001b[0mexperimental_get_tracing_count\u001b[0m\u001b[0;34m(\u001b[0m\u001b[0;34m)\u001b[0m\u001b[0;34m\u001b[0m\u001b[0;34m\u001b[0m\u001b[0m\n",
            "\u001b[0;32m/usr/local/lib/python3.10/dist-packages/tensorflow/python/eager/polymorphic_function/polymorphic_function.py\u001b[0m in \u001b[0;36m_call\u001b[0;34m(self, *args, **kwds)\u001b[0m\n\u001b[1;32m    866\u001b[0m       \u001b[0;31m# In this case we have created variables on the first call, so we run the\u001b[0m\u001b[0;34m\u001b[0m\u001b[0;34m\u001b[0m\u001b[0m\n\u001b[1;32m    867\u001b[0m       \u001b[0;31m# defunned version which is guaranteed to never create variables.\u001b[0m\u001b[0;34m\u001b[0m\u001b[0;34m\u001b[0m\u001b[0m\n\u001b[0;32m--> 868\u001b[0;31m       return tracing_compilation.call_function(\n\u001b[0m\u001b[1;32m    869\u001b[0m           \u001b[0margs\u001b[0m\u001b[0;34m,\u001b[0m \u001b[0mkwds\u001b[0m\u001b[0;34m,\u001b[0m \u001b[0mself\u001b[0m\u001b[0;34m.\u001b[0m\u001b[0m_no_variable_creation_config\u001b[0m\u001b[0;34m\u001b[0m\u001b[0;34m\u001b[0m\u001b[0m\n\u001b[1;32m    870\u001b[0m       )\n",
            "\u001b[0;32m/usr/local/lib/python3.10/dist-packages/tensorflow/python/eager/polymorphic_function/tracing_compilation.py\u001b[0m in \u001b[0;36mcall_function\u001b[0;34m(args, kwargs, tracing_options)\u001b[0m\n\u001b[1;32m    137\u001b[0m   \u001b[0mbound_args\u001b[0m \u001b[0;34m=\u001b[0m \u001b[0mfunction\u001b[0m\u001b[0;34m.\u001b[0m\u001b[0mfunction_type\u001b[0m\u001b[0;34m.\u001b[0m\u001b[0mbind\u001b[0m\u001b[0;34m(\u001b[0m\u001b[0;34m*\u001b[0m\u001b[0margs\u001b[0m\u001b[0;34m,\u001b[0m \u001b[0;34m**\u001b[0m\u001b[0mkwargs\u001b[0m\u001b[0;34m)\u001b[0m\u001b[0;34m\u001b[0m\u001b[0;34m\u001b[0m\u001b[0m\n\u001b[1;32m    138\u001b[0m   \u001b[0mflat_inputs\u001b[0m \u001b[0;34m=\u001b[0m \u001b[0mfunction\u001b[0m\u001b[0;34m.\u001b[0m\u001b[0mfunction_type\u001b[0m\u001b[0;34m.\u001b[0m\u001b[0munpack_inputs\u001b[0m\u001b[0;34m(\u001b[0m\u001b[0mbound_args\u001b[0m\u001b[0;34m)\u001b[0m\u001b[0;34m\u001b[0m\u001b[0;34m\u001b[0m\u001b[0m\n\u001b[0;32m--> 139\u001b[0;31m   return function._call_flat(  # pylint: disable=protected-access\n\u001b[0m\u001b[1;32m    140\u001b[0m       \u001b[0mflat_inputs\u001b[0m\u001b[0;34m,\u001b[0m \u001b[0mcaptured_inputs\u001b[0m\u001b[0;34m=\u001b[0m\u001b[0mfunction\u001b[0m\u001b[0;34m.\u001b[0m\u001b[0mcaptured_inputs\u001b[0m\u001b[0;34m\u001b[0m\u001b[0;34m\u001b[0m\u001b[0m\n\u001b[1;32m    141\u001b[0m   )\n",
            "\u001b[0;32m/usr/local/lib/python3.10/dist-packages/tensorflow/python/eager/polymorphic_function/concrete_function.py\u001b[0m in \u001b[0;36m_call_flat\u001b[0;34m(self, tensor_inputs, captured_inputs)\u001b[0m\n\u001b[1;32m   1321\u001b[0m         and executing_eagerly):\n\u001b[1;32m   1322\u001b[0m       \u001b[0;31m# No tape is watching; skip to running the function.\u001b[0m\u001b[0;34m\u001b[0m\u001b[0;34m\u001b[0m\u001b[0m\n\u001b[0;32m-> 1323\u001b[0;31m       \u001b[0;32mreturn\u001b[0m \u001b[0mself\u001b[0m\u001b[0;34m.\u001b[0m\u001b[0m_inference_function\u001b[0m\u001b[0;34m.\u001b[0m\u001b[0mcall_preflattened\u001b[0m\u001b[0;34m(\u001b[0m\u001b[0margs\u001b[0m\u001b[0;34m)\u001b[0m\u001b[0;34m\u001b[0m\u001b[0;34m\u001b[0m\u001b[0m\n\u001b[0m\u001b[1;32m   1324\u001b[0m     forward_backward = self._select_forward_and_backward_functions(\n\u001b[1;32m   1325\u001b[0m         \u001b[0margs\u001b[0m\u001b[0;34m,\u001b[0m\u001b[0;34m\u001b[0m\u001b[0;34m\u001b[0m\u001b[0m\n",
            "\u001b[0;32m/usr/local/lib/python3.10/dist-packages/tensorflow/python/eager/polymorphic_function/atomic_function.py\u001b[0m in \u001b[0;36mcall_preflattened\u001b[0;34m(self, args)\u001b[0m\n\u001b[1;32m    214\u001b[0m   \u001b[0;32mdef\u001b[0m \u001b[0mcall_preflattened\u001b[0m\u001b[0;34m(\u001b[0m\u001b[0mself\u001b[0m\u001b[0;34m,\u001b[0m \u001b[0margs\u001b[0m\u001b[0;34m:\u001b[0m \u001b[0mSequence\u001b[0m\u001b[0;34m[\u001b[0m\u001b[0mcore\u001b[0m\u001b[0;34m.\u001b[0m\u001b[0mTensor\u001b[0m\u001b[0;34m]\u001b[0m\u001b[0;34m)\u001b[0m \u001b[0;34m->\u001b[0m \u001b[0mAny\u001b[0m\u001b[0;34m:\u001b[0m\u001b[0;34m\u001b[0m\u001b[0;34m\u001b[0m\u001b[0m\n\u001b[1;32m    215\u001b[0m     \u001b[0;34m\"\"\"Calls with flattened tensor inputs and returns the structured output.\"\"\"\u001b[0m\u001b[0;34m\u001b[0m\u001b[0;34m\u001b[0m\u001b[0m\n\u001b[0;32m--> 216\u001b[0;31m     \u001b[0mflat_outputs\u001b[0m \u001b[0;34m=\u001b[0m \u001b[0mself\u001b[0m\u001b[0;34m.\u001b[0m\u001b[0mcall_flat\u001b[0m\u001b[0;34m(\u001b[0m\u001b[0;34m*\u001b[0m\u001b[0margs\u001b[0m\u001b[0;34m)\u001b[0m\u001b[0;34m\u001b[0m\u001b[0;34m\u001b[0m\u001b[0m\n\u001b[0m\u001b[1;32m    217\u001b[0m     \u001b[0;32mreturn\u001b[0m \u001b[0mself\u001b[0m\u001b[0;34m.\u001b[0m\u001b[0mfunction_type\u001b[0m\u001b[0;34m.\u001b[0m\u001b[0mpack_output\u001b[0m\u001b[0;34m(\u001b[0m\u001b[0mflat_outputs\u001b[0m\u001b[0;34m)\u001b[0m\u001b[0;34m\u001b[0m\u001b[0;34m\u001b[0m\u001b[0m\n\u001b[1;32m    218\u001b[0m \u001b[0;34m\u001b[0m\u001b[0m\n",
            "\u001b[0;32m/usr/local/lib/python3.10/dist-packages/tensorflow/python/eager/polymorphic_function/atomic_function.py\u001b[0m in \u001b[0;36mcall_flat\u001b[0;34m(self, *args)\u001b[0m\n\u001b[1;32m    249\u001b[0m         \u001b[0;32mwith\u001b[0m \u001b[0mrecord\u001b[0m\u001b[0;34m.\u001b[0m\u001b[0mstop_recording\u001b[0m\u001b[0;34m(\u001b[0m\u001b[0;34m)\u001b[0m\u001b[0;34m:\u001b[0m\u001b[0;34m\u001b[0m\u001b[0;34m\u001b[0m\u001b[0m\n\u001b[1;32m    250\u001b[0m           \u001b[0;32mif\u001b[0m \u001b[0mself\u001b[0m\u001b[0;34m.\u001b[0m\u001b[0m_bound_context\u001b[0m\u001b[0;34m.\u001b[0m\u001b[0mexecuting_eagerly\u001b[0m\u001b[0;34m(\u001b[0m\u001b[0;34m)\u001b[0m\u001b[0;34m:\u001b[0m\u001b[0;34m\u001b[0m\u001b[0;34m\u001b[0m\u001b[0m\n\u001b[0;32m--> 251\u001b[0;31m             outputs = self._bound_context.call_function(\n\u001b[0m\u001b[1;32m    252\u001b[0m                 \u001b[0mself\u001b[0m\u001b[0;34m.\u001b[0m\u001b[0mname\u001b[0m\u001b[0;34m,\u001b[0m\u001b[0;34m\u001b[0m\u001b[0;34m\u001b[0m\u001b[0m\n\u001b[1;32m    253\u001b[0m                 \u001b[0mlist\u001b[0m\u001b[0;34m(\u001b[0m\u001b[0margs\u001b[0m\u001b[0;34m)\u001b[0m\u001b[0;34m,\u001b[0m\u001b[0;34m\u001b[0m\u001b[0;34m\u001b[0m\u001b[0m\n",
            "\u001b[0;32m/usr/local/lib/python3.10/dist-packages/tensorflow/python/eager/context.py\u001b[0m in \u001b[0;36mcall_function\u001b[0;34m(self, name, tensor_inputs, num_outputs)\u001b[0m\n\u001b[1;32m   1484\u001b[0m     \u001b[0mcancellation_context\u001b[0m \u001b[0;34m=\u001b[0m \u001b[0mcancellation\u001b[0m\u001b[0;34m.\u001b[0m\u001b[0mcontext\u001b[0m\u001b[0;34m(\u001b[0m\u001b[0;34m)\u001b[0m\u001b[0;34m\u001b[0m\u001b[0;34m\u001b[0m\u001b[0m\n\u001b[1;32m   1485\u001b[0m     \u001b[0;32mif\u001b[0m \u001b[0mcancellation_context\u001b[0m \u001b[0;32mis\u001b[0m \u001b[0;32mNone\u001b[0m\u001b[0;34m:\u001b[0m\u001b[0;34m\u001b[0m\u001b[0;34m\u001b[0m\u001b[0m\n\u001b[0;32m-> 1486\u001b[0;31m       outputs = execute.execute(\n\u001b[0m\u001b[1;32m   1487\u001b[0m           \u001b[0mname\u001b[0m\u001b[0;34m.\u001b[0m\u001b[0mdecode\u001b[0m\u001b[0;34m(\u001b[0m\u001b[0;34m\"utf-8\"\u001b[0m\u001b[0;34m)\u001b[0m\u001b[0;34m,\u001b[0m\u001b[0;34m\u001b[0m\u001b[0;34m\u001b[0m\u001b[0m\n\u001b[1;32m   1488\u001b[0m           \u001b[0mnum_outputs\u001b[0m\u001b[0;34m=\u001b[0m\u001b[0mnum_outputs\u001b[0m\u001b[0;34m,\u001b[0m\u001b[0;34m\u001b[0m\u001b[0;34m\u001b[0m\u001b[0m\n",
            "\u001b[0;32m/usr/local/lib/python3.10/dist-packages/tensorflow/python/eager/execute.py\u001b[0m in \u001b[0;36mquick_execute\u001b[0;34m(op_name, num_outputs, inputs, attrs, ctx, name)\u001b[0m\n\u001b[1;32m     51\u001b[0m   \u001b[0;32mtry\u001b[0m\u001b[0;34m:\u001b[0m\u001b[0;34m\u001b[0m\u001b[0;34m\u001b[0m\u001b[0m\n\u001b[1;32m     52\u001b[0m     \u001b[0mctx\u001b[0m\u001b[0;34m.\u001b[0m\u001b[0mensure_initialized\u001b[0m\u001b[0;34m(\u001b[0m\u001b[0;34m)\u001b[0m\u001b[0;34m\u001b[0m\u001b[0;34m\u001b[0m\u001b[0m\n\u001b[0;32m---> 53\u001b[0;31m     tensors = pywrap_tfe.TFE_Py_Execute(ctx._handle, device_name, op_name,\n\u001b[0m\u001b[1;32m     54\u001b[0m                                         inputs, attrs, num_outputs)\n\u001b[1;32m     55\u001b[0m   \u001b[0;32mexcept\u001b[0m \u001b[0mcore\u001b[0m\u001b[0;34m.\u001b[0m\u001b[0m_NotOkStatusException\u001b[0m \u001b[0;32mas\u001b[0m \u001b[0me\u001b[0m\u001b[0;34m:\u001b[0m\u001b[0;34m\u001b[0m\u001b[0;34m\u001b[0m\u001b[0m\n",
            "\u001b[0;31mKeyboardInterrupt\u001b[0m: "
          ]
        }
      ],
      "source": [
        "# Train the model\n",
        "model.fit(X_train.reshape(-1, image_height, image_width, 1), y_train, epochs=200, validation_data=(X_test.reshape(-1, image_height, image_width, 1), y_test), callbacks=[TensorBoard(log_dir=log_dir)])\n"
      ]
    },
    {
      "cell_type": "code",
      "execution_count": null,
      "metadata": {
        "colab": {
          "base_uri": "https://localhost:8080/"
        },
        "id": "UL0jfElouc36",
        "outputId": "11c95078-9849-4ab9-ad5d-9a5f386aa71c"
      },
      "outputs": [
        {
          "output_type": "stream",
          "name": "stdout",
          "text": [
            "4/4 [==============================] - 20s 5s/step\n"
          ]
        }
      ],
      "source": [
        "# Predict labels for test data\n",
        "y_pred = model.predict(X_test.reshape(-1, image_height, image_width, 1))\n",
        "y_pred_classes = np.argmax(y_pred, axis=1)\n"
      ]
    },
    {
      "cell_type": "code",
      "execution_count": null,
      "metadata": {
        "id": "Xp-X5Uo4uh3a"
      },
      "outputs": [],
      "source": [
        "# Calculate evaluation metrics\n",
        "cm = confusion_matrix(y_test, y_pred_classes)\n",
        "accuracy = accuracy_score(y_test, y_pred_classes)\n",
        "precision = precision_score(y_test, y_pred_classes, average='macro')\n",
        "recall = recall_score(y_test, y_pred_classes, average='macro')\n",
        "f1 = f1_score(y_test, y_pred_classes, average='macro')"
      ]
    },
    {
      "cell_type": "code",
      "execution_count": null,
      "metadata": {
        "colab": {
          "base_uri": "https://localhost:8080/"
        },
        "id": "bRsrr99JunQ8",
        "outputId": "ebc80331-0127-42bd-8cf5-9bb38c453e24"
      },
      "outputs": [
        {
          "output_type": "stream",
          "name": "stdout",
          "text": [
            "Confusion Matrix:\n",
            "[[12  0  0  0  0  0  0  0  0  0]\n",
            " [ 0 19  0  0  0  0  0  0  0  0]\n",
            " [ 0  0  7  0  0  0  0  0  0  0]\n",
            " [ 0  1  0 10  0  0  0  0  0  0]\n",
            " [ 0  0  0  0 12  0  0  0  0  0]\n",
            " [ 0  0  0  0  2  8  0  0  0  0]\n",
            " [ 0  0  0  0  0  0 15  0  0  0]\n",
            " [ 0  0  0  0  0  0  0  9  0  0]\n",
            " [ 0  0  0  0  0  0  0  0 19  0]\n",
            " [ 0  0  0  0  0  0  0  0  0 14]]\n",
            "Accuracy: 0.9765625\n",
            "Precision: 0.9807142857142856\n",
            "Recall: 0.9709090909090909\n",
            "F1 Score: 0.973870573870574\n"
          ]
        }
      ],
      "source": [
        "# Print evaluation metrics\n",
        "print(\"Confusion Matrix:\")\n",
        "print(cm)\n",
        "print(\"Accuracy:\", accuracy)\n",
        "print(\"Precision:\", precision)\n",
        "print(\"Recall:\", recall)\n",
        "print(\"F1 Score:\", f1)"
      ]
    },
    {
      "cell_type": "code",
      "execution_count": null,
      "metadata": {
        "colab": {
          "base_uri": "https://localhost:8080/"
        },
        "id": "LyiNn4vSusIo",
        "outputId": "71d9a5e7-74f7-431d-885d-cc8b0c3b8922"
      },
      "outputs": [
        {
          "output_type": "stream",
          "name": "stdout",
          "text": [
            "Model: \"sequential\"\n",
            "_________________________________________________________________\n",
            " Layer (type)                Output Shape              Param #   \n",
            "=================================================================\n",
            " conv2d (Conv2D)             (None, 478, 638, 32)      320       \n",
            "                                                                 \n",
            " max_pooling2d (MaxPooling2  (None, 239, 319, 32)      0         \n",
            " D)                                                              \n",
            "                                                                 \n",
            " conv2d_1 (Conv2D)           (None, 237, 317, 64)      18496     \n",
            "                                                                 \n",
            " max_pooling2d_1 (MaxPoolin  (None, 118, 158, 64)      0         \n",
            " g2D)                                                            \n",
            "                                                                 \n",
            " conv2d_2 (Conv2D)           (None, 116, 156, 64)      36928     \n",
            "                                                                 \n",
            " flatten (Flatten)           (None, 1158144)           0         \n",
            "                                                                 \n",
            " dense (Dense)               (None, 64)                74121280  \n",
            "                                                                 \n",
            " dense_1 (Dense)             (None, 32)                2080      \n",
            "                                                                 \n",
            " dense_2 (Dense)             (None, 10)                330       \n",
            "                                                                 \n",
            "=================================================================\n",
            "Total params: 74179434 (282.97 MB)\n",
            "Trainable params: 74179434 (282.97 MB)\n",
            "Non-trainable params: 0 (0.00 Byte)\n",
            "_________________________________________________________________\n"
          ]
        }
      ],
      "source": [
        "model.summary()\n"
      ]
    },
    {
      "cell_type": "code",
      "execution_count": null,
      "metadata": {
        "id": "BKpuH1VcuzT8"
      },
      "outputs": [],
      "source": [
        "# Define the path where you want to save the model on Google Drive\n",
        "model_dir = '/content/drive/MyDrive/Colab Notebooks/Trained Model.h5'\n"
      ]
    },
    {
      "cell_type": "code",
      "execution_count": null,
      "metadata": {
        "colab": {
          "base_uri": "https://localhost:8080/"
        },
        "id": "Vcofw4wAu9bf",
        "outputId": "f3898a1d-a8b8-416e-cf6d-c6cd1e93134e"
      },
      "outputs": [
        {
          "output_type": "stream",
          "name": "stderr",
          "text": [
            "/usr/local/lib/python3.10/dist-packages/keras/src/engine/training.py:3103: UserWarning: You are saving your model as an HDF5 file via `model.save()`. This file format is considered legacy. We recommend using instead the native Keras format, e.g. `model.save('my_model.keras')`.\n",
            "  saving_api.save_model(\n"
          ]
        }
      ],
      "source": [
        "# Save the model\n",
        "model.save(os.path.join(model_dir,'Trained Model.h5'))"
      ]
    }
  ],
  "metadata": {
    "colab": {
      "provenance": [],
      "authorship_tag": "ABX9TyMz0A249i5tHoyi+KRT7tB7",
      "include_colab_link": true
    },
    "kernelspec": {
      "display_name": "Python 3",
      "name": "python3"
    },
    "language_info": {
      "name": "python"
    }
  },
  "nbformat": 4,
  "nbformat_minor": 0
}